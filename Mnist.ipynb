{
 "cells": [
  {
   "cell_type": "code",
   "execution_count": 11,
   "metadata": {},
   "outputs": [],
   "source": [
    "import numpy as np"
   ]
  },
  {
   "cell_type": "code",
   "execution_count": 12,
   "metadata": {},
   "outputs": [],
   "source": [
    "import torch\n",
    "import torchvision\n",
    "import matplotlib.pyplot as plt\n",
    "from time import time\n",
    "from torchvision import datasets,transforms\n",
    "from torch import nn,optim"
   ]
  },
  {
   "cell_type": "code",
   "execution_count": 13,
   "metadata": {},
   "outputs": [],
   "source": [
    "transform=transforms.Compose([transforms.ToTensor(),transforms.Normalize((0.5,),(0.5,)),])"
   ]
  },
  {
   "cell_type": "code",
   "execution_count": 14,
   "metadata": {},
   "outputs": [
    {
     "name": "stdout",
     "output_type": "stream",
     "text": [
      "Downloading http://yann.lecun.com/exdb/mnist/train-images-idx3-ubyte.gz to home/sourav/Neuralnetwork/Mnist/MNIST/raw/train-images-idx3-ubyte.gz\n"
     ]
    },
    {
     "data": {
      "application/vnd.jupyter.widget-view+json": {
       "model_id": "c6d371fb2ae146beba851b263a2063f1",
       "version_major": 2,
       "version_minor": 0
      },
      "text/plain": [
       "HBox(children=(FloatProgress(value=1.0, bar_style='info', max=1.0), HTML(value='')))"
      ]
     },
     "metadata": {},
     "output_type": "display_data"
    },
    {
     "name": "stdout",
     "output_type": "stream",
     "text": [
      "Extracting home/sourav/Neuralnetwork/Mnist/MNIST/raw/train-images-idx3-ubyte.gz to home/sourav/Neuralnetwork/Mnist/MNIST/raw\n",
      "Downloading http://yann.lecun.com/exdb/mnist/train-labels-idx1-ubyte.gz to home/sourav/Neuralnetwork/Mnist/MNIST/raw/train-labels-idx1-ubyte.gz\n"
     ]
    },
    {
     "data": {
      "application/vnd.jupyter.widget-view+json": {
       "model_id": "83e8b24e6ea942f293574dcd91c6a7f4",
       "version_major": 2,
       "version_minor": 0
      },
      "text/plain": [
       "HBox(children=(FloatProgress(value=1.0, bar_style='info', max=1.0), HTML(value='')))"
      ]
     },
     "metadata": {},
     "output_type": "display_data"
    },
    {
     "name": "stdout",
     "output_type": "stream",
     "text": [
      "Extracting home/sourav/Neuralnetwork/Mnist/MNIST/raw/train-labels-idx1-ubyte.gz to home/sourav/Neuralnetwork/Mnist/MNIST/raw\n",
      "Downloading http://yann.lecun.com/exdb/mnist/t10k-images-idx3-ubyte.gz to home/sourav/Neuralnetwork/Mnist/MNIST/raw/t10k-images-idx3-ubyte.gz\n",
      "\n"
     ]
    },
    {
     "data": {
      "application/vnd.jupyter.widget-view+json": {
       "model_id": "a3230f59591d491a8cf34d9a5e99ab57",
       "version_major": 2,
       "version_minor": 0
      },
      "text/plain": [
       "HBox(children=(FloatProgress(value=1.0, bar_style='info', max=1.0), HTML(value='')))"
      ]
     },
     "metadata": {},
     "output_type": "display_data"
    },
    {
     "name": "stdout",
     "output_type": "stream",
     "text": [
      "Extracting home/sourav/Neuralnetwork/Mnist/MNIST/raw/t10k-images-idx3-ubyte.gz to home/sourav/Neuralnetwork/Mnist/MNIST/raw\n",
      "Downloading http://yann.lecun.com/exdb/mnist/t10k-labels-idx1-ubyte.gz to home/sourav/Neuralnetwork/Mnist/MNIST/raw/t10k-labels-idx1-ubyte.gz\n"
     ]
    },
    {
     "data": {
      "application/vnd.jupyter.widget-view+json": {
       "model_id": "b26e2f9006cd4f41b0ab9aa4019719ce",
       "version_major": 2,
       "version_minor": 0
      },
      "text/plain": [
       "HBox(children=(FloatProgress(value=1.0, bar_style='info', max=1.0), HTML(value='')))"
      ]
     },
     "metadata": {},
     "output_type": "display_data"
    },
    {
     "name": "stdout",
     "output_type": "stream",
     "text": [
      "Extracting home/sourav/Neuralnetwork/Mnist/MNIST/raw/t10k-labels-idx1-ubyte.gz to home/sourav/Neuralnetwork/Mnist/MNIST/raw\n",
      "Processing...\n"
     ]
    },
    {
     "name": "stderr",
     "output_type": "stream",
     "text": [
      "/opt/conda/conda-bld/pytorch_1587428190859/work/torch/csrc/utils/tensor_numpy.cpp:141: UserWarning: The given NumPy array is not writeable, and PyTorch does not support non-writeable tensors. This means you can write to the underlying (supposedly non-writeable) NumPy array using the tensor. You may want to copy the array to protect its data or make it writeable before converting it to a tensor. This type of warning will be suppressed for the rest of this program.\n"
     ]
    },
    {
     "name": "stdout",
     "output_type": "stream",
     "text": [
      "Done!\n"
     ]
    }
   ],
   "source": [
    "trainset=datasets.MNIST('home/sourav/Neuralnetwork/Mnist',download=True,train=True,transform=transform)\n",
    "valset=datasets.MNIST('home/sourav/Neuralnetwork/Mnist',download=True,train=False,transform=transform)\n",
    "trainloader=torch.utils.data.DataLoader(trainset,batch_size=64,shuffle=True)\n",
    "valloader=torch.utils.data.DataLoader(valset,batch_size=64,shuffle=True)"
   ]
  },
  {
   "cell_type": "code",
   "execution_count": 15,
   "metadata": {},
   "outputs": [
    {
     "name": "stdout",
     "output_type": "stream",
     "text": [
      "torch.Size([64, 1, 28, 28])\n"
     ]
    }
   ],
   "source": [
    "dataiter=iter(trainloader)\n",
    "images,labels=dataiter.next()\n",
    "print(images.shape)"
   ]
  },
  {
   "cell_type": "code",
   "execution_count": 16,
   "metadata": {},
   "outputs": [
    {
     "name": "stdout",
     "output_type": "stream",
     "text": [
      "torch.Size([64])\n"
     ]
    }
   ],
   "source": [
    "print(labels.shape)"
   ]
  },
  {
   "cell_type": "code",
   "execution_count": 18,
   "metadata": {},
   "outputs": [
    {
     "data": {
      "image/png": "[encoded data removed]",
      "text/plain": [
       "<Figure size 432x288 with 1 Axes>"
      ]
     },
     "metadata": {
      "needs_background": "light"
     },
     "output_type": "display_data"
    }
   ],
   "source": [
    "plt.imshow(images[0].numpy().squeeze(),cmap='gray_r');"
   ]
  },
  {
   "cell_type": "code",
   "execution_count": 20,
   "metadata": {},
   "outputs": [
    {
     "data": {
      "image/png": "[encoded data removed]",
      "text/plain": [
       "<Figure size 432x288 with 60 Axes>"
      ]
     },
     "metadata": {
      "needs_background": "light"
     },
     "output_type": "display_data"
    }
   ],
   "source": [
    "figure=plt.figure()\n",
    "count=60\n",
    "for index in range(1,count+1):\n",
    "    plt.subplot(6,10,index)\n",
    "    plt.axis=('off')\n",
    "plt.imshow(images[index].numpy().squeeze(),cmap='gray_r');"
   ]
  },
  {
   "cell_type": "code",
   "execution_count": 23,
   "metadata": {},
   "outputs": [
    {
     "name": "stdout",
     "output_type": "stream",
     "text": [
      "Sequential(\n",
      "  (0): Linear(in_features=784, out_features=128, bias=True)\n",
      "  (1): ReLU()\n",
      "  (2): Linear(in_features=128, out_features=64, bias=True)\n",
      "  (3): ReLU()\n",
      "  (4): Linear(in_features=64, out_features=10, bias=True)\n",
      "  (5): LogSoftmax()\n",
      ")\n"
     ]
    }
   ],
   "source": [
    "input_size = 784\n",
    "hidden_sizes = [128,64]\n",
    "output_size = 10\n",
    "model = nn.Sequential(nn.Linear(input_size,hidden_sizes[0]),nn.ReLU(),\n",
    "                    nn.Linear(hidden_sizes[0],hidden_sizes[1]),nn.ReLU(),\n",
    "                    nn.Linear(hidden_sizes[1],output_size),nn.LogSoftmax(dim=1))\n",
    "print(model)"
   ]
  },
  {
   "cell_type": "code",
   "execution_count": 24,
   "metadata": {},
   "outputs": [],
   "source": [
    "criterion=nn.NLLLoss()\n",
    "images.labels=next(iter(trainloader))\n",
    "images=images.view(images.shape[0],-1)#flattening\n",
    "logps=model(images)# y-dash\n",
    "loss=criterion(logps,labels)"
   ]
  },
  {
   "cell_type": "code",
   "execution_count": 25,
   "metadata": {},
   "outputs": [
    {
     "name": "stdout",
     "output_type": "stream",
     "text": [
      "Before Backpropagation:\n",
      " None\n",
      "After backpropagation:\n",
      " tensor([[ 0.0022,  0.0022,  0.0022,  ...,  0.0022,  0.0022,  0.0022],\n",
      "        [-0.0008, -0.0008, -0.0008,  ..., -0.0008, -0.0008, -0.0008],\n",
      "        [ 0.0000,  0.0000,  0.0000,  ...,  0.0000,  0.0000,  0.0000],\n",
      "        ...,\n",
      "        [-0.0047, -0.0047, -0.0047,  ..., -0.0047, -0.0047, -0.0047],\n",
      "        [-0.0053, -0.0053, -0.0053,  ..., -0.0053, -0.0053, -0.0053],\n",
      "        [-0.0013, -0.0013, -0.0013,  ..., -0.0013, -0.0013, -0.0013]])\n"
     ]
    }
   ],
   "source": [
    "print('Before Backpropagation:\\n',model[0].weight.grad)\n",
    "loss.backward()\n",
    "print('After backpropagation:\\n',model[0].weight.grad)"
   ]
  },
  {
   "cell_type": "code",
   "execution_count": 30,
   "metadata": {},
   "outputs": [
    {
     "name": "stdout",
     "output_type": "stream",
     "text": [
      "Epoch0- Training loss: 0.6157988218515158\n",
      "\n",
      " training Time(in minutes)= 0.24090952475865682\n",
      "Epoch1- Training loss: 0.2800303720541473\n",
      "\n",
      " training Time(in minutes)= 0.4769101103146871\n",
      "Epoch2- Training loss: 0.2157949285347388\n",
      "\n",
      " training Time(in minutes)= 0.7210767110188802\n",
      "Epoch3- Training loss: 0.17546343545256649\n",
      "\n",
      " training Time(in minutes)= 0.9507858594258626\n",
      "Epoch4- Training loss: 0.1466991917939106\n",
      "\n",
      " training Time(in minutes)= 1.1839177131652832\n",
      "Epoch5- Training loss: 0.1267211004666714\n",
      "\n",
      " training Time(in minutes)= 1.4213990171750386\n",
      "Epoch6- Training loss: 0.11173019860027188\n",
      "\n",
      " training Time(in minutes)= 1.6567195375760397\n",
      "Epoch7- Training loss: 0.09916935757553177\n",
      "\n",
      " training Time(in minutes)= 1.9013980706532796\n",
      "Epoch8- Training loss: 0.08977537834520406\n",
      "\n",
      " training Time(in minutes)= 2.1487648844718934\n",
      "Epoch9- Training loss: 0.0810955214077857\n",
      "\n",
      " training Time(in minutes)= 2.3924516956011455\n",
      "Epoch10- Training loss: 0.07440382247216809\n",
      "\n",
      " training Time(in minutes)= 2.63740895986557\n",
      "Epoch11- Training loss: 0.06759472774651482\n",
      "\n",
      " training Time(in minutes)= 2.8815632581710817\n",
      "Epoch12- Training loss: 0.06319266140137289\n",
      "\n",
      " training Time(in minutes)= 3.130382760365804\n",
      "Epoch13- Training loss: 0.05699956674587482\n",
      "\n",
      " training Time(in minutes)= 3.3741131742795307\n",
      "Epoch14- Training loss: 0.053591123059777215\n",
      "\n",
      " training Time(in minutes)= 3.6161431312561034\n"
     ]
    }
   ],
   "source": [
    "optimizer=optim.SGD(model.parameters(),lr=0.003,momentum=0.9)\n",
    "time0=time()\n",
    "epochs=15\n",
    "for e in range(epochs):\n",
    "    running_loss=0\n",
    "    for images,labels in trainloader:\n",
    "        images=images.view(images.shape[0],-1)\n",
    "        optimizer.zero_grad()\n",
    "        output=model(images)\n",
    "        loss=criterion(output,labels)\n",
    "        loss.backward()\n",
    "        optimizer.step()\n",
    "        running_loss+=loss.item()\n",
    "    else:\n",
    "        print(\"Epoch{}- Training loss: {}\".format(e,running_loss/len(trainloader)))\n",
    "        print (\"\\n training Time(in minutes)=\",(time()-time0)/60)"
   ]
  },
  {
   "cell_type": "code",
   "execution_count": 37,
   "metadata": {},
   "outputs": [
    {
     "name": "stdout",
     "output_type": "stream",
     "text": [
      "Predicted Digit =  3\n"
     ]
    }
   ],
   "source": [
    "images,labels=next(iter(valloader))\n",
    "img=images[0].view(1,784)\n",
    "with torch.no_grad():\n",
    "    logps=model(img)\n",
    "ps=torch.exp(logps)\n",
    "probab=list(ps.numpy()[0])\n",
    "print(\"Predicted Digit = \", probab.index(max(probab)))\n"
   ]
  },
  {
   "cell_type": "code",
   "execution_count": 38,
   "metadata": {},
   "outputs": [
    {
     "name": "stdout",
     "output_type": "stream",
     "text": [
      "Number of Images Tested= 10000\n",
      "\n",
      "Model Accuracy= 97.43\n"
     ]
    }
   ],
   "source": [
    "correct_count,all_count=0,0\n",
    "for images,labels in valloader:\n",
    "    for i in range(len(labels)):\n",
    "        img=images[i].view(1,784)\n",
    "        with torch.no_grad():\n",
    "            logps=model(img)\n",
    "        ps=torch.exp(logps)\n",
    "        probab=list(ps.numpy()[0])\n",
    "        pred_label=probab.index(max(probab))\n",
    "        true_label=labels.numpy()[i]\n",
    "        if(true_label==pred_label):\n",
    "            correct_count+=1\n",
    "        all_count+=1\n",
    "print(\"Number of Images Tested=\",all_count)\n",
    "print(\"\\nModel Accuracy=\",(correct_count/all_count)*100)"
   ]
  },
  {
   "cell_type": "code",
   "execution_count": 39,
   "metadata": {},
   "outputs": [],
   "source": [
    "torch.save(model,'home/sourav/Neuralnetwork/Mnist/Model.pt')"
   ]
  },
  {
   "cell_type": "code",
   "execution_count": null,
   "metadata": {},
   "outputs": [],
   "source": []
  }
 ],
 "metadata": {
  "kernelspec": {
   "display_name": "Python 3",
   "language": "python",
   "name": "python3"
  },
  "language_info": {
   "codemirror_mode": {
    "name": "ipython",
    "version": 3
   },
   "file_extension": ".py",
   "mimetype": "text/x-python",
   "name": "python",
   "nbconvert_exporter": "python",
   "pygments_lexer": "ipython3",
   "version": "3.7.6"
  }
 },
 "nbformat": 4,
 "nbformat_minor": 4
}
